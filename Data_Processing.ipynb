{
 "cells": [
  {
   "cell_type": "markdown",
   "metadata": {},
   "source": [
    "# FIT3179 Data Visualisation 2\n",
    "\n",
    "Source: https://www.kaggle.com/datasets/alphajuliet/au-dom-traffic?resource=download\n",
    "Origionally Sourced From: https://data.gov.au/dataset/ds-dga-c5029f2a-39b3-4aef-8ae1-73e7962f6170/details as Domestic Airlines - Top Routes (CSV)\n",
    "\n",
    "Working with a single data set file containing aggregate details on Australian Domestic Flights each month from Jan-1984 to Aug-2021.\n",
    "\n",
    "### Verbatim Notes Provided by Original Source\n",
    "\n",
    "The data cover revenue passengers carried by Australian-registered operators of scheduled regular public transport services over Australian flight stages. \n",
    "These estimates include passengers carried between domestic airports on international flights operated by these carriers.\n",
    "The passengers carried refer to traffic on board by stages.\n",
    "Traffic on board by stages - The total of all traffic (revenue passengers) on each flight stage between two directly connected airports.\n",
    "\n",
    "Individual routes shown are restricted to those with an average exceeding 8 000 passengers per month over the previous six months where two or more airlines operate in competition. For the month of March 2016 there were 66 such routes. \n",
    "Cells with zero indicate where data is not available or where the route did not meet the publication criteria above.\n",
    "\n",
    "**Definitions:**\n",
    "* Aircraft Trips - The number of flight stages. A return flight counts as two aircraft trips.\n",
    "* Available Seat Kilometres (ASKs) - Calculated by multiplying the number of seats available on each flight stage, by the distance in kilometres between the ports. The distances used are Great Circle Distances.\n",
    "* City-Pair - The ports shown make up the city-pair route. Passenger movements shown for a city pair reflect total traffic in both directions.\n",
    "* Distance - Great Circle Distances between two airports.\n",
    "* Flight Stage - The operation of an aircraft from take-off to landing.\n",
    "* Passengers Carried - Revenue passengers carried.\n",
    "* Passenger Load Factor - The total revenue passenger kilometres performed as a percentage of the total available seat kilometres.\n",
    "* Regular Public Transport Services (RPT) - All air service operations in which aircraft are available for the transport of members of the public and are conducted in accordance with fixed schedules. It does not include charter or other non-scheduled operations.\n",
    "* Revenue Passengers - All passengers paying any fare. Frequent flyer redemption travellers are regarded as revenue passengers.\n",
    "* Revenue Passenger Kilometres (RPKs) - Calculated by multiplying the number of revenue passengers travelling on each flight stage, by the distance in kilometres between the ports. The distances used are Great Circle Distances.\n",
    "\n",
    "### Column Definitions\n",
    "* City1: The first part of the origin, destination pair. Note the city1 and city2 values show data for flights in both directions.\n",
    "* City2: The second part of the origin, destination pair.\n",
    "* Month: The month-year of the flight data shown.\n",
    "* Passenger Count: The number of passengers flown between the two cities in the given month.\n",
    "* Flight Count: The number of flights between the two cities in the given month (in either direction).\n",
    "* Average Capacity (%): How full the plane is in terms of passenger seating capacity. Average value for the month.\n",
    "* Flight Distance (km): Distance between airports (using Great Circle distance). Is not the actual distance flow.\n",
    "* Actual Passenger Distance (km): Flight Distance * Passenger Count\n",
    "* Potential Passenger Distance (km): Flight Distance * Total Seat Available\n",
    "* Seats: The total number of seats available on flights for the given month between the two locations."
   ]
  },
  {
   "cell_type": "code",
   "execution_count": 1,
   "metadata": {},
   "outputs": [],
   "source": [
    "import pandas as pd\n",
    "import numpy as np\n",
    "import matplotlib.pyplot as plt\n",
    "import seaborn as sns\n",
    "import itertools\n",
    "import csv, os, random, math"
   ]
  },
  {
   "cell_type": "code",
   "execution_count": 2,
   "metadata": {},
   "outputs": [],
   "source": [
    "# 1000 Seperator\n",
    "def format_large_numbers(x):\n",
    "    return '{:,}'.format(x)\n",
    "\n",
    "# Set the custom formatting function\n",
    "pd.options.display.float_format = format_large_numbers"
   ]
  },
  {
   "cell_type": "code",
   "execution_count": 3,
   "metadata": {},
   "outputs": [],
   "source": [
    "path = 'Data/raw_data.csv'\n",
    "data = pd.read_csv(path)\n",
    "# Rename the columns\n",
    "new_names = {\n",
    "    'Passenger_Trips': 'Passenger Count',\n",
    "    'Aircraft_Trips': 'Flight Count',\n",
    "    'Passenger_Load_Factor': 'Average Capacity (%)',\n",
    "    'Distance_GC_(km)': 'Flight Distance (km)'\n",
    "}\n",
    "data.rename(columns=new_names, inplace=True)\n",
    "# Add field for plane size (in terms of seat count)\n",
    "data['Plane Size (seats)'] = data['Seats'] / data['Flight Count']\n",
    "# Remove fields not needed\n",
    "data.drop(columns=['Month_num', 'RPKs', 'ASKs', 'Seats'], inplace=True)\n",
    "\n",
    "\n",
    "# Removing Temporal Nature\n",
    "# Aggregate the data to yearly\n",
    "data = data.groupby(['Year', 'City1', 'City2'], as_index=False).agg({\n",
    "    'Passenger Count': 'sum', 'Flight Count': 'sum', 'Average Capacity (%)': 'mean', \n",
    "    'Flight Distance (km)': 'mean', 'Plane Size (seats)': 'mean'\n",
    "})\n",
    "# Include only 2017 non-zero data (it has the most connections)\n",
    "data = data[(data['Year']==2017) & (data['Passenger Count'] > 0)]\n",
    "# Remove the now redundant Year column\n",
    "data.drop(columns=['Year'], inplace=True)\n",
    "# Round all numbers to 2dp\n",
    "data = data.applymap(lambda x: round(x, 2) if isinstance(x, float) else x)\n"
   ]
  },
  {
   "cell_type": "code",
   "execution_count": 4,
   "metadata": {},
   "outputs": [],
   "source": [
    "# Get Number of connections for each location\n",
    "cities = data['City1'].append(data['City2']).unique()\n",
    "num_connections = {city: 0 for city in cities}\n",
    "for _, row in data.iterrows():\n",
    "    num_connections[row['City1']] += 1\n",
    "    num_connections[row['City2']] += 1\n",
    "\n",
    "# Rearrange City1 and City2 to have City1 be the the more connected city (where possible)\n",
    "def rearrange_route(row):\n",
    "    if num_connections[row['City1']] < num_connections[row['City2']]:\n",
    "        row['City1'], row['City2'] = row['City2'], row['City1']\n",
    "    return row\n",
    "data = data.apply(rearrange_route, axis=1)\n",
    "data = data.sort_values(by='City1', key=lambda x: data['City1'].map(num_connections), ascending=False)\n",
    "data = data.reset_index(drop=True)\n"
   ]
  },
  {
   "cell_type": "markdown",
   "metadata": {},
   "source": [
    "## Secondary Dataset\n",
    "There is a secondary dataset which contains location data for each of the cities. Latitude, Longitude, Population, Area.\n",
    "\n",
    "This dataset was sourced from Chat-GPT (Sep/25 Version).\n",
    "Prompts:\n",
    "* 'I am going to give a list of places in australia. I want a CSV response with the following data about each. Latitude, Longitude, Population, Area (km sq), State. The cities: ADELAIDE,ALBURY,ALICE SPRINGS,BRISBANE,BROOME,CANBERRA,COFFS HARBOUR,DARWIN,DEVONPORT,DUBBO,GOLD COAST,HOBART,KALGOORLIE,KARRATHA,LAUNCESTON,MELBOURNE,PERTH,SUNSHINE COAST,SYDNEY,CAIRNS,BALLINA,HERVEY BAY,PORT MACQUARIE,NEWCASTLE,HAMILTON ISLAND,AYERS ROCK,GERALDTON,BUNDABERG,ARMIDALE,PROSERPINE,MACKAY,ROCKHAMPTON,TOWNSVILLE,BURNIE,MILDURA,WAGGA WAGGA,PORT LINCOLN,PORT HEDLAND,NEWMAN,GLADSTONE,EMERALD,MOUNT ISA,MORANBAH,TAMWORTH'\n",
    "* Give me the same data but: 1. Abbreviate the State Names, 2. Add a boolean (True, False) field 'Is State Capitol', 3. Add a field 'Airport distance to CBD (km).\n",
    "\n",
    "### Defining \n",
    "Cities are labeled as Capitol, Metro, Regional. Regional Locations are defined as having a population less than 50,000."
   ]
  },
  {
   "cell_type": "code",
   "execution_count": 8,
   "metadata": {},
   "outputs": [],
   "source": [
    "#cols = ['Lat', 'Long', 'Pop', 'Area (km sq)', 'State', 'Is Capitol', 'Airport Distance to CBD']\n",
    "data_locations = pd.read_csv('Data/location_data.csv')\n",
    "data_locations['Connections'] = data_locations['City'].map(num_connections)\n",
    "data_locations.drop(columns=['Area (km sq)', 'Airport distance to CBD (km)'], inplace=True)\n",
    "data_locations = data_locations.sort_values(by=['Connections', 'Population'], \n",
    "                                            ascending=False).reset_index(drop=True)"
   ]
  },
  {
   "cell_type": "markdown",
   "metadata": {},
   "source": [
    "### Adding Route Type\n",
    "\n",
    "We now use `data_locations` to determine the route type for each row in `data`."
   ]
  },
  {
   "cell_type": "code",
   "execution_count": 10,
   "metadata": {},
   "outputs": [],
   "source": [
    "city_classes = data_locations.set_index('City')['Class'].to_dict()\n",
    "def get_routetype(row):\n",
    "    city1_class = city_classes[row['City1']]\n",
    "    city2_class = city_classes[row['City2']]\n",
    "    return f'{city1_class}-{city2_class}'\n",
    "data['Route Type'] = data.apply(get_routetype, axis=1)"
   ]
  },
  {
   "cell_type": "markdown",
   "metadata": {},
   "source": [
    "### Heatmap Dataset\n",
    "Creating a third dataset specifically for the heatmap.\n",
    "Has a more even spread of City1 and City2."
   ]
  },
  {
   "cell_type": "code",
   "execution_count": 16,
   "metadata": {
    "scrolled": false
   },
   "outputs": [],
   "source": [
    "def get_state(city):\n",
    "    return data_locations.loc[data_locations['City'] == city, 'State'].iloc[0]\n",
    "\n",
    "states = list(data_locations['State'].unique())\n",
    "combos = [[set(i), 0] for i in itertools.combinations_with_replacement(states, 2)]\n",
    "for index, row in data.iterrows():\n",
    "    state1, state2 = get_state(row['City1']), get_state(row['City2'])\n",
    "    key = set([state1, state2])\n",
    "    value = row['Passenger Count']\n",
    "    for index, amount in enumerate(combos):\n",
    "        if key == amount[0]:\n",
    "            combos[index][1] += value\n",
    "\n",
    "extra = []\n",
    "for index, value in enumerate(combos):\n",
    "    row = list(value[0])\n",
    "    if len(row) == 1:\n",
    "        row += row\n",
    "        row.append(value[1])\n",
    "        combos[index] = row\n",
    "    else:\n",
    "        row.append(value[1])\n",
    "        combos[index] = row\n",
    "        row_reverse = [row[1], row[0], row[2]]\n",
    "        extra.append(row_reverse)\n",
    "combos += extra\n",
    "data_heatmap = pd.DataFrame(combos, columns=['State1', 'State2', 'Value'])"
   ]
  },
  {
   "cell_type": "markdown",
   "metadata": {},
   "source": [
    "### Flights per City \n",
    "\n",
    "Adding Flights to the Data_Locations column."
   ]
  },
  {
   "cell_type": "code",
   "execution_count": 17,
   "metadata": {},
   "outputs": [],
   "source": [
    "def get_class(city):\n",
    "    return data_locations.loc[data_locations['City'] == city, 'Class'].iloc[0]\n",
    "\n",
    "cities = {i: 0 for i in data_locations['City'].unique()}\n",
    "for index, route in data.iterrows():\n",
    "    cities[route['City1']] += route['Flight Count']\n",
    "    cities[route['City2']] += route['Flight Count']\n",
    "cities = pd.Series(cities).reset_index()\n",
    "cities = cities.rename(columns={'index': 'City', 0: 'Flights'})\n",
    "data_locations = pd.merge(data_locations, cities, on='City', how='left')"
   ]
  },
  {
   "cell_type": "markdown",
   "metadata": {},
   "source": [
    "### Get KPI Values\n",
    "\n",
    "1. Number of Routes: 68\n",
    "2. Number of Airports: 41\n",
    "3. Number of People: 54,629,078\n",
    "4. Number of Flights: 471,363"
   ]
  },
  {
   "cell_type": "code",
   "execution_count": 24,
   "metadata": {},
   "outputs": [],
   "source": [
    "kpi_1 = len(data)\n",
    "kpi_2 = len(data_locations)\n",
    "kpi_3 = data['Passenger Count'].sum()\n",
    "kpi_4 = data['Flight Count'].sum()\n",
    "kpis = {'Num Routes': kpi_1, 'Num Airports': kpi_2, 'Num People': kpi_3, 'Num Flights': kpi_4}"
   ]
  },
  {
   "cell_type": "code",
   "execution_count": 25,
   "metadata": {},
   "outputs": [
    {
     "data": {
      "text/plain": [
       "{'Num Routes': 68,\n",
       " 'Num Airports': 41,\n",
       " 'Num People': 54629078,\n",
       " 'Num Flights': 471363}"
      ]
     },
     "execution_count": 25,
     "metadata": {},
     "output_type": "execute_result"
    }
   ],
   "source": [
    "kpis"
   ]
  },
  {
   "cell_type": "markdown",
   "metadata": {},
   "source": [
    "## Export"
   ]
  },
  {
   "cell_type": "code",
   "execution_count": 19,
   "metadata": {},
   "outputs": [],
   "source": [
    "data.to_csv('Data/flight_data_cleaned.csv')\n",
    "data_locations.to_csv('Data/location_data_cleaned.csv')\n",
    "data_heatmap.to_csv('Data/heatmap_data.csv')"
   ]
  }
 ],
 "metadata": {
  "kernelspec": {
   "display_name": "Python 3",
   "language": "python",
   "name": "python3"
  },
  "language_info": {
   "codemirror_mode": {
    "name": "ipython",
    "version": 3
   },
   "file_extension": ".py",
   "mimetype": "text/x-python",
   "name": "python",
   "nbconvert_exporter": "python",
   "pygments_lexer": "ipython3",
   "version": "3.8.5"
  }
 },
 "nbformat": 4,
 "nbformat_minor": 2
}
